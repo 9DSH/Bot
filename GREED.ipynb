{
 "cells": [
  {
   "cell_type": "code",
   "execution_count": null,
   "id": "3245ed2c",
   "metadata": {},
   "outputs": [],
   "source": [
    "import fxcmpy\n",
    "import time\n",
    "import numpy as np\n",
    "import pandas as pd\n",
    "import threading as thr\n",
    "import re\n",
    "from datetime import datetime"
   ]
  },
  {
   "cell_type": "code",
   "execution_count": null,
   "id": "65bf11e0",
   "metadata": {
    "scrolled": true
   },
   "outputs": [],
   "source": [
    "TOKEN='4009416fe3d78b0ad8404d1d183cacffb4245475'\n",
    "con = fxcmpy.fxcmpy(access_token=TOKEN, server='demo')\n",
    "con.is_connected()"
   ]
  },
  {
   "cell_type": "code",
   "execution_count": null,
   "id": "9f2ab122",
   "metadata": {},
   "outputs": [],
   "source": [
    "def New_Candle_Opened(Instrument, TimeFrame,LastOpen):\n",
    "    CurrentBID_open = con.get_candles(instrument=Instrument, period=TimeFrame, number=1)['bidopen'][-1]\n",
    "    if CurrentBID_open != LastOpen: \n",
    "        return True"
   ]
  },
  {
   "cell_type": "code",
   "execution_count": null,
   "id": "b6a88b45",
   "metadata": {},
   "outputs": [],
   "source": [
    "def Continuous_Trade(Instrument,TimeFrame,NextBar,StopLoss_pip,LOT,Reward_Risk_Ratio,NEXT_BUY_ENTRY,NEXT_SELL_ENTRY):\n",
    "    global Entry\n",
    "    Right_Minute_Time = int(datetime.now().strftime(\"%M\"))\n",
    "    if con.is_subscribed(Instrument) != True: con.subscribe_market_data(Instrument)\n",
    "    while Right_Minute_Time != NextBar:  # Untill The candle closed\n",
    "        Right_Minute_Time = int(datetime.now().strftime(\"%M\"))\n",
    "        Last_Bid = float(format(con.get_last_price(Instrument)[0], '.5f'))\n",
    "        Last_Ask = float(format(con.get_last_price(Instrument)[1], '.5f'))\n",
    "        Spread = Last_Ask - Last_Bid\n",
    "        \n",
    "        NEXT_BUY_ENTRY = Entry[0]\n",
    "        NEXT_SELL_ENTRY = Entry[1]\n",
    "        \n",
    "        if Last_Ask >= NEXT_BUY_ENTRY:  # check number of orders too\n",
    "            TP, SL = Generate_Limits('BUY',Last_Ask,StopLoss_pip,Reward_Risk_Ratio,Spread)\n",
    "            BUY_Order = con.open_trade(Instrument,is_buy=True,amount=(LOT*100),order_type='AtMarket', \n",
    "                                       time_in_force='GTC',stop=SL,limit=TP,is_in_pips=False)\n",
    "            Entry[0] = TP\n",
    "            Entry[1] = SL\n",
    "            print('NextBuy: ' + str(Entry[0]) + '\\n' + 'NextSell: ' + str(Entry[1]))\n",
    "            \n",
    "        if Last_Bid <= NEXT_SELL_ENTRY:\n",
    "            TP, SL = Generate_Limits('SELL',Last_Bid,StopLoss_pip,Reward_Risk_Ratio,Spread)\n",
    "            SELL_Order = con.open_trade(Instrument,is_buy=False,amount=(LOT*100),order_type='AtMarket', \n",
    "                                       time_in_force='GTC',stop=SL,limit=TP,is_in_pips=False)\n",
    "            Entry[1] = TP\n",
    "            Entry[0] = SL\n",
    "            print('NextBuy: ' + str(Entry[0]) + '\\n' + 'NextSell: ' + str(Entry[1]))"
   ]
  },
  {
   "cell_type": "code",
   "execution_count": null,
   "id": "c221e3c1",
   "metadata": {},
   "outputs": [],
   "source": [
    "def Initial_Order_Creation(Instrument,TimeFrame,NextBar,StopLoss_pip,LOT,Reward_Risk_Ratio):  # RMT = Right Minute Time\n",
    "    global Entry\n",
    "    con.subscribe_market_data(Instrument)\n",
    "    Last_Bid = float(format(con.get_last_price(Instrument)[0], '.5f'))\n",
    "    Last_Ask = float(format(con.get_last_price(Instrument)[1], '.5f'))\n",
    "    Spread = Last_Ask-Last_Bid\n",
    "    \n",
    "    BUY_TP, BUY_SL = Generate_Limits('BUY',Last_Ask,StopLoss_pip,Reward_Risk_Ratio,Spread)\n",
    "    SELL_TP, SELL_SL = Generate_Limits('SELL',Last_Bid,StopLoss_pip,Reward_Risk_Ratio,Spread)\n",
    "    Entry[0] = BUY_TP\n",
    "    Entry[1] = BUY_SL\n",
    "    \n",
    "    BUY_Order = con.open_trade(Instrument,is_buy=True,amount=(LOT*100),order_type='AtMarket', \n",
    "                               time_in_force='GTC',stop=BUY_SL,limit=BUY_TP,is_in_pips=False)\n",
    "    SELL_Order = con.open_trade(Instrument,is_buy=False,amount=(LOT*100),order_type='AtMarket', \n",
    "                               time_in_force='GTC',stop=SELL_SL,limit=SELL_TP,is_in_pips=False)\n",
    "    Continuous_Trade(Instrument,TimeFrame,NextBar,StopLoss_pip,LOT,Reward_Risk_Ratio,BUY_TP,BUY_SL)\n",
    "    "
   ]
  },
  {
   "cell_type": "code",
   "execution_count": null,
   "id": "e698130d",
   "metadata": {},
   "outputs": [],
   "source": [
    "def Generate_Limits(OrderType,OpenPrice,StopLoss_pip,Reward_Risk_Ratio,Spread):\n",
    "    if OrderType == 'BUY':\n",
    "        TakeProfit = float(format((OpenPrice  + (StopLoss_pip/100000)*Reward_Risk_Ratio),'.5f'))\n",
    "        StopLoss = float(format((OpenPrice - Spread - (StopLoss_pip/100000)),'.5f'))\n",
    "        return TakeProfit,StopLoss\n",
    "    elif OrderType == 'SELL':\n",
    "        TakeProfit = float(format((OpenPrice - (StopLoss_pip/100000)*Reward_Risk_Ratio) ,'.5f'))\n",
    "        StopLoss = float(format((OpenPrice  + Spread + (StopLoss_pip/100000)),'.5f'))\n",
    "        return TakeProfit,StopLoss"
   ]
  },
  {
   "cell_type": "code",
   "execution_count": null,
   "id": "5d353f46",
   "metadata": {},
   "outputs": [],
   "source": [
    "def Next_Candle_Bartime(RMT,TimeFrame) :\n",
    "    BarTime = int(TimeFrame[1:])\n",
    "    Next_Open = RMT + BarTime\n",
    "    if Next_Open == 60:\n",
    "        Next_Open = 0\n",
    "    return Next_Open"
   ]
  },
  {
   "cell_type": "code",
   "execution_count": null,
   "id": "03f84433",
   "metadata": {},
   "outputs": [],
   "source": [
    "TimeFrame = 'm5'\n",
    "StopLoss_pip = 20;\n",
    "Reward_Risk_Ratio = 1;\n",
    "LOT = 0.01\n",
    "BarTime = int(TimeFrame[1:])\n",
    "\n",
    "Instrument = 'AUD/USD'\n",
    "\n",
    "Entry = np.zeros(2)\n",
    "\n",
    "while True:\n",
    "    Right_Minute_Time = int(datetime.now().strftime(\"%M\"))\n",
    "    \n",
    "    if Right_Minute_Time%BarTime == 0:\n",
    "        df = con.get_open_positions(kind='dataframe')\n",
    "        Position_Number = len(df)\n",
    "        NextBar = Next_Candle_Bartime(Right_Minute_Time,TimeFrame)\n",
    "        if Position_Number == 0:\n",
    "            Initial_Order_Creation(Instrument,TimeFrame,NextBar,StopLoss_pip,LOT, Reward_Risk_Ratio)\n",
    "            \n",
    "        elif Position_Number <= 2:\n",
    "            Entry[0] = df['limit'][0]\n",
    "            Entry[1] = df['stop'][0]\n",
    "            if Entry[0] < Entry[1] : \n",
    "                Entry[1] = df['limit'][0]\n",
    "                Entry[0] = df['stop'][0]\n",
    "            Continuous_Trade(Instrument,TimeFrame,NextBar,StopLoss_pip,LOT,Reward_Risk_Ratio,Entry[0],Entry[1])\n",
    "            \n",
    "       \n",
    "       \n",
    "    # tradeObj = thr.Thread(target = Initial_Order_Creation , args=(Instrument,StopLoss_pip,LOT, Reward_Risk_Ratio,Right_Minute_Time,BarTime))\n",
    "       # tradeObj.start()\n",
    "        print('Upper: ' + str(Entry[0]) + '\\n' + 'Lower: ' + str(Entry[1]))\n",
    "    "
   ]
  },
  {
   "cell_type": "code",
   "execution_count": null,
   "id": "deb47ddd",
   "metadata": {},
   "outputs": [],
   "source": []
  }
 ],
 "metadata": {
  "kernelspec": {
   "display_name": "Python 3 (ipykernel)",
   "language": "python",
   "name": "python3"
  },
  "language_info": {
   "codemirror_mode": {
    "name": "ipython",
    "version": 3
   },
   "file_extension": ".py",
   "mimetype": "text/x-python",
   "name": "python",
   "nbconvert_exporter": "python",
   "pygments_lexer": "ipython3",
   "version": "3.11.2"
  }
 },
 "nbformat": 4,
 "nbformat_minor": 5
}
